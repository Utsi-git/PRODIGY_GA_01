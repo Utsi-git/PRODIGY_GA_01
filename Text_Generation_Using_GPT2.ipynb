{
 "cells": [
  {
   "cell_type": "code",
   "execution_count": 2,
   "id": "initial_id",
   "metadata": {
    "ExecuteTime": {
     "end_time": "2024-07-23T21:18:47.704607Z",
     "start_time": "2024-07-23T21:18:44.793378Z"
    },
    "collapsed": true
   },
   "outputs": [
    {
     "name": "stdout",
     "output_type": "stream",
     "text": [
      "Requirement already satisfied: gradio in /opt/anaconda3/lib/python3.11/site-packages (4.37.2)\r\n",
      "Requirement already satisfied: aiofiles<24.0,>=22.0 in /opt/anaconda3/lib/python3.11/site-packages (from gradio) (23.2.1)\r\n",
      "Requirement already satisfied: altair<6.0,>=4.2.0 in /opt/anaconda3/lib/python3.11/site-packages (from gradio) (5.0.1)\r\n",
      "Requirement already satisfied: fastapi in /opt/anaconda3/lib/python3.11/site-packages (from gradio) (0.111.0)\r\n",
      "Requirement already satisfied: ffmpy in /opt/anaconda3/lib/python3.11/site-packages (from gradio) (0.3.2)\r\n",
      "Requirement already satisfied: gradio-client==1.0.2 in /opt/anaconda3/lib/python3.11/site-packages (from gradio) (1.0.2)\r\n",
      "Requirement already satisfied: httpx>=0.24.1 in /opt/anaconda3/lib/python3.11/site-packages (from gradio) (0.27.0)\r\n",
      "Requirement already satisfied: huggingface-hub>=0.19.3 in /opt/anaconda3/lib/python3.11/site-packages (from gradio) (0.23.4)\r\n",
      "Requirement already satisfied: importlib-resources<7.0,>=1.3 in /opt/anaconda3/lib/python3.11/site-packages (from gradio) (6.4.0)\r\n",
      "Requirement already satisfied: jinja2<4.0 in /opt/anaconda3/lib/python3.11/site-packages (from gradio) (3.1.3)\r\n",
      "Requirement already satisfied: markupsafe~=2.0 in /opt/anaconda3/lib/python3.11/site-packages (from gradio) (2.1.5)\r\n",
      "Requirement already satisfied: matplotlib~=3.0 in /opt/anaconda3/lib/python3.11/site-packages (from gradio) (3.8.0)\r\n",
      "Requirement already satisfied: numpy<3.0,>=1.0 in /opt/anaconda3/lib/python3.11/site-packages (from gradio) (1.23.5)\r\n",
      "Requirement already satisfied: orjson~=3.0 in /opt/anaconda3/lib/python3.11/site-packages (from gradio) (3.10.6)\r\n",
      "Requirement already satisfied: packaging in /opt/anaconda3/lib/python3.11/site-packages (from gradio) (24.0)\r\n",
      "Requirement already satisfied: pandas<3.0,>=1.0 in /opt/anaconda3/lib/python3.11/site-packages (from gradio) (2.1.4)\r\n",
      "Requirement already satisfied: pillow<11.0,>=8.0 in /opt/anaconda3/lib/python3.11/site-packages (from gradio) (10.2.0)\r\n",
      "Requirement already satisfied: pydantic>=2.0 in /opt/anaconda3/lib/python3.11/site-packages (from gradio) (2.8.2)\r\n",
      "Requirement already satisfied: pydub in /opt/anaconda3/lib/python3.11/site-packages (from gradio) (0.25.1)\r\n",
      "Requirement already satisfied: python-multipart>=0.0.9 in /opt/anaconda3/lib/python3.11/site-packages (from gradio) (0.0.9)\r\n",
      "Requirement already satisfied: pyyaml<7.0,>=5.0 in /opt/anaconda3/lib/python3.11/site-packages (from gradio) (6.0.1)\r\n",
      "Requirement already satisfied: ruff>=0.2.2 in /opt/anaconda3/lib/python3.11/site-packages (from gradio) (0.5.1)\r\n",
      "Requirement already satisfied: semantic-version~=2.0 in /opt/anaconda3/lib/python3.11/site-packages (from gradio) (2.10.0)\r\n",
      "Requirement already satisfied: tomlkit==0.12.0 in /opt/anaconda3/lib/python3.11/site-packages (from gradio) (0.12.0)\r\n",
      "Requirement already satisfied: typer<1.0,>=0.12 in /opt/anaconda3/lib/python3.11/site-packages (from gradio) (0.12.3)\r\n",
      "Requirement already satisfied: typing-extensions~=4.0 in /opt/anaconda3/lib/python3.11/site-packages (from gradio) (4.11.0)\r\n",
      "Requirement already satisfied: urllib3~=2.0 in /opt/anaconda3/lib/python3.11/site-packages (from gradio) (2.2.1)\r\n",
      "Requirement already satisfied: uvicorn>=0.14.0 in /opt/anaconda3/lib/python3.11/site-packages (from gradio) (0.30.1)\r\n",
      "Requirement already satisfied: fsspec in /opt/anaconda3/lib/python3.11/site-packages (from gradio-client==1.0.2->gradio) (2023.10.0)\r\n",
      "Requirement already satisfied: websockets<12.0,>=10.0 in /opt/anaconda3/lib/python3.11/site-packages (from gradio-client==1.0.2->gradio) (11.0.3)\r\n",
      "Requirement already satisfied: jsonschema>=3.0 in /opt/anaconda3/lib/python3.11/site-packages (from altair<6.0,>=4.2.0->gradio) (4.19.2)\r\n",
      "Requirement already satisfied: toolz in /opt/anaconda3/lib/python3.11/site-packages (from altair<6.0,>=4.2.0->gradio) (0.12.0)\r\n",
      "Requirement already satisfied: anyio in /opt/anaconda3/lib/python3.11/site-packages (from httpx>=0.24.1->gradio) (4.3.0)\r\n",
      "Requirement already satisfied: certifi in /opt/anaconda3/lib/python3.11/site-packages (from httpx>=0.24.1->gradio) (2024.2.2)\r\n",
      "Requirement already satisfied: httpcore==1.* in /opt/anaconda3/lib/python3.11/site-packages (from httpx>=0.24.1->gradio) (1.0.5)\r\n",
      "Requirement already satisfied: idna in /opt/anaconda3/lib/python3.11/site-packages (from httpx>=0.24.1->gradio) (3.7)\r\n",
      "Requirement already satisfied: sniffio in /opt/anaconda3/lib/python3.11/site-packages (from httpx>=0.24.1->gradio) (1.3.1)\r\n",
      "Requirement already satisfied: h11<0.15,>=0.13 in /opt/anaconda3/lib/python3.11/site-packages (from httpcore==1.*->httpx>=0.24.1->gradio) (0.14.0)\r\n",
      "Requirement already satisfied: filelock in /opt/anaconda3/lib/python3.11/site-packages (from huggingface-hub>=0.19.3->gradio) (3.13.4)\r\n",
      "Requirement already satisfied: requests in /opt/anaconda3/lib/python3.11/site-packages (from huggingface-hub>=0.19.3->gradio) (2.32.3)\r\n",
      "Requirement already satisfied: tqdm>=4.42.1 in /opt/anaconda3/lib/python3.11/site-packages (from huggingface-hub>=0.19.3->gradio) (4.66.4)\r\n",
      "Requirement already satisfied: contourpy>=1.0.1 in /opt/anaconda3/lib/python3.11/site-packages (from matplotlib~=3.0->gradio) (1.2.0)\r\n",
      "Requirement already satisfied: cycler>=0.10 in /opt/anaconda3/lib/python3.11/site-packages (from matplotlib~=3.0->gradio) (0.11.0)\r\n",
      "Requirement already satisfied: fonttools>=4.22.0 in /opt/anaconda3/lib/python3.11/site-packages (from matplotlib~=3.0->gradio) (4.25.0)\r\n",
      "Requirement already satisfied: kiwisolver>=1.0.1 in /opt/anaconda3/lib/python3.11/site-packages (from matplotlib~=3.0->gradio) (1.4.4)\r\n",
      "Requirement already satisfied: pyparsing>=2.3.1 in /opt/anaconda3/lib/python3.11/site-packages (from matplotlib~=3.0->gradio) (3.0.9)\r\n",
      "Requirement already satisfied: python-dateutil>=2.7 in /opt/anaconda3/lib/python3.11/site-packages (from matplotlib~=3.0->gradio) (2.9.0.post0)\r\n",
      "Requirement already satisfied: pytz>=2020.1 in /opt/anaconda3/lib/python3.11/site-packages (from pandas<3.0,>=1.0->gradio) (2023.3.post1)\r\n",
      "Requirement already satisfied: tzdata>=2022.1 in /opt/anaconda3/lib/python3.11/site-packages (from pandas<3.0,>=1.0->gradio) (2023.3)\r\n",
      "Requirement already satisfied: annotated-types>=0.4.0 in /opt/anaconda3/lib/python3.11/site-packages (from pydantic>=2.0->gradio) (0.7.0)\r\n",
      "Requirement already satisfied: pydantic-core==2.20.1 in /opt/anaconda3/lib/python3.11/site-packages (from pydantic>=2.0->gradio) (2.20.1)\r\n",
      "Requirement already satisfied: click>=8.0.0 in /opt/anaconda3/lib/python3.11/site-packages (from typer<1.0,>=0.12->gradio) (8.1.7)\r\n",
      "Requirement already satisfied: shellingham>=1.3.0 in /opt/anaconda3/lib/python3.11/site-packages (from typer<1.0,>=0.12->gradio) (1.5.0)\r\n",
      "Requirement already satisfied: rich>=10.11.0 in /opt/anaconda3/lib/python3.11/site-packages (from typer<1.0,>=0.12->gradio) (13.7.1)\r\n",
      "Requirement already satisfied: starlette<0.38.0,>=0.37.2 in /opt/anaconda3/lib/python3.11/site-packages (from fastapi->gradio) (0.37.2)\r\n",
      "Requirement already satisfied: fastapi-cli>=0.0.2 in /opt/anaconda3/lib/python3.11/site-packages (from fastapi->gradio) (0.0.4)\r\n",
      "Requirement already satisfied: ujson!=4.0.2,!=4.1.0,!=4.2.0,!=4.3.0,!=5.0.0,!=5.1.0,>=4.0.1 in /opt/anaconda3/lib/python3.11/site-packages (from fastapi->gradio) (5.4.0)\r\n",
      "Requirement already satisfied: email_validator>=2.0.0 in /opt/anaconda3/lib/python3.11/site-packages (from fastapi->gradio) (2.2.0)\r\n",
      "Requirement already satisfied: dnspython>=2.0.0 in /opt/anaconda3/lib/python3.11/site-packages (from email_validator>=2.0.0->fastapi->gradio) (2.6.1)\r\n",
      "Requirement already satisfied: attrs>=22.2.0 in /opt/anaconda3/lib/python3.11/site-packages (from jsonschema>=3.0->altair<6.0,>=4.2.0->gradio) (23.2.0)\r\n",
      "Requirement already satisfied: jsonschema-specifications>=2023.03.6 in /opt/anaconda3/lib/python3.11/site-packages (from jsonschema>=3.0->altair<6.0,>=4.2.0->gradio) (2023.7.1)\r\n",
      "Requirement already satisfied: referencing>=0.28.4 in /opt/anaconda3/lib/python3.11/site-packages (from jsonschema>=3.0->altair<6.0,>=4.2.0->gradio) (0.30.2)\r\n",
      "Requirement already satisfied: rpds-py>=0.7.1 in /opt/anaconda3/lib/python3.11/site-packages (from jsonschema>=3.0->altair<6.0,>=4.2.0->gradio) (0.10.6)\r\n",
      "Requirement already satisfied: six>=1.5 in /opt/anaconda3/lib/python3.11/site-packages (from python-dateutil>=2.7->matplotlib~=3.0->gradio) (1.16.0)\r\n",
      "Requirement already satisfied: markdown-it-py>=2.2.0 in /opt/anaconda3/lib/python3.11/site-packages (from rich>=10.11.0->typer<1.0,>=0.12->gradio) (3.0.0)\r\n",
      "Requirement already satisfied: pygments<3.0.0,>=2.13.0 in /opt/anaconda3/lib/python3.11/site-packages (from rich>=10.11.0->typer<1.0,>=0.12->gradio) (2.17.2)\r\n",
      "Requirement already satisfied: httptools>=0.5.0 in /opt/anaconda3/lib/python3.11/site-packages (from uvicorn[standard]>=0.12.0->fastapi->gradio) (0.6.1)\r\n",
      "Requirement already satisfied: python-dotenv>=0.13 in /opt/anaconda3/lib/python3.11/site-packages (from uvicorn[standard]>=0.12.0->fastapi->gradio) (0.21.0)\r\n",
      "Requirement already satisfied: uvloop!=0.15.0,!=0.15.1,>=0.14.0 in /opt/anaconda3/lib/python3.11/site-packages (from uvicorn[standard]>=0.12.0->fastapi->gradio) (0.19.0)\r\n",
      "Requirement already satisfied: watchfiles>=0.13 in /opt/anaconda3/lib/python3.11/site-packages (from uvicorn[standard]>=0.12.0->fastapi->gradio) (0.22.0)\r\n",
      "Requirement already satisfied: charset-normalizer<4,>=2 in /opt/anaconda3/lib/python3.11/site-packages (from requests->huggingface-hub>=0.19.3->gradio) (3.3.2)\r\n",
      "Requirement already satisfied: mdurl~=0.1 in /opt/anaconda3/lib/python3.11/site-packages (from markdown-it-py>=2.2.0->rich>=10.11.0->typer<1.0,>=0.12->gradio) (0.1.2)\r\n"
     ]
    }
   ],
   "source": [
    "!pip install gradio"
   ]
  },
  {
   "cell_type": "code",
   "execution_count": 51,
   "id": "e5338ffa19aa93ec",
   "metadata": {
    "ExecuteTime": {
     "end_time": "2024-07-23T21:58:45.411766Z",
     "start_time": "2024-07-23T21:58:37.521840Z"
    },
    "collapsed": false
   },
   "outputs": [
    {
     "name": "stderr",
     "output_type": "stream",
     "text": [
      "All PyTorch model weights were used when initializing TFGPT2LMHeadModel.\n",
      "\n",
      "All the weights of TFGPT2LMHeadModel were initialized from the PyTorch model.\n",
      "If your task is similar to the task the model of the checkpoint was trained on, you can already use TFGPT2LMHeadModel for predictions without further training.\n"
     ]
    },
    {
     "name": "stdout",
     "output_type": "stream",
     "text": [
      "Epoch 1/3 - Loss: 0.0\n",
      "Epoch 2/3 - Loss: 0.0\n",
      "Epoch 3/3 - Loss: 0.0\n",
      "Running on local URL:  http://127.0.0.1:7861\n",
      "\n",
      "To create a public link, set `share=True` in `launch()`.\n"
     ]
    },
    {
     "data": {
      "text/html": [
       "<div><iframe src=\"http://127.0.0.1:7861/\" width=\"100%\" height=\"500\" allow=\"autoplay; camera; microphone; clipboard-read; clipboard-write;\" frameborder=\"0\" allowfullscreen></iframe></div>"
      ],
      "text/plain": [
       "<IPython.core.display.HTML object>"
      ]
     },
     "metadata": {},
     "output_type": "display_data"
    },
    {
     "data": {
      "text/plain": []
     },
     "execution_count": 51,
     "metadata": {},
     "output_type": "execute_result"
    }
   ],
   "source": [
    "import gradio as gr\n",
    "import tensorflow as tf\n",
    "from transformers import GPT2Tokenizer, TFGPT2LMHeadModel, TextDataset, create_optimizer\n",
    "\n",
    "# Load model and tokenizer\n",
    "tokenizer = GPT2Tokenizer.from_pretrained(\"gpt2\")\n",
    "model = TFGPT2LMHeadModel.from_pretrained(\"gpt2\", pad_token_id=tokenizer.eos_token_id)\n",
    "\n",
    "# Load and preprocess dataset\n",
    "def load_dataset(file_path):\n",
    "    return TextDataset(tokenizer=tokenizer, file_path=file_path, block_size=128)\n",
    "\n",
    "dataset = load_dataset(\"custom_dataset.txt\")\n",
    "\n",
    "# Convert to tf.data.Dataset\n",
    "def convert_to_tf_dataset(dataset, tokenizer, batch_size):\n",
    "    def gen():\n",
    "        for item in dataset:\n",
    "            inputs = tokenizer(item, return_tensors='tf', padding=True, truncation=True).input_ids\n",
    "            yield {\"input_ids\": inputs, \"labels\": inputs}\n",
    "    return tf.data.Dataset.from_generator(gen, output_signature={\n",
    "        \"input_ids\": tf.TensorSpec(shape=(None, None), dtype=tf.int32),\n",
    "        \"labels\": tf.TensorSpec(shape=(None, None), dtype=tf.int32),\n",
    "    }).batch(batch_size)\n",
    "\n",
    "batch_size = 4\n",
    "tf_dataset = convert_to_tf_dataset(dataset, tokenizer, batch_size=batch_size)\n",
    "\n",
    "# Determine the number of steps per epoch\n",
    "steps_per_epoch = tf.data.experimental.cardinality(tf_dataset).numpy()\n",
    "\n",
    "# Training parameters\n",
    "epochs = 3\n",
    "\n",
    "# Define optimizer\n",
    "optimizer, _ = create_optimizer(init_lr=5e-5, num_train_steps=steps_per_epoch * epochs, num_warmup_steps=0)\n",
    "\n",
    "# Custom training loop\n",
    "for epoch in range(epochs):\n",
    "    epoch_loss = 0.0  # Initialize as a float in tf_dataset:\n",
    "        with tf.GradientTape() as tape:\n",
    "            outputs = model(batch[\"input_ids\"], labels=batch[\"labels\"], return_dict=True)\n",
    "            loss = tf.reduce_mean(tf.keras.losses.sparse_categorical_crossentropy(batch[\"labels\"], outputs.logits, from_logits=True))\n",
    "        grads = tape.gradient(loss, model.trainable_variables)\n",
    "        optimizer.apply_gradients(zip(grads, model.trainable_variables))\n",
    "        epoch_loss += loss.numpy()  # Convert tensor to float\n",
    "\n",
    "    # Print average loss for the epoch\n",
    "    print(f\"Epoch {epoch + 1}/{epochs} - Loss: {epoch_loss}\")\n",
    "\n",
    "# Save the model\n",
    "model.save_pretrained(\"path_to_save_finetuned_model\")\n",
    "tokenizer.save_pretrained(\"path_to_save_finetuned_model\")\n",
    "\n",
    "# Define Gradio function\n",
    "def generate_text(prompt):\n",
    "    input_ids = tokenizer.encode(prompt, return_tensors='tf')\n",
    "    beam_output = model.generate(input_ids, max_length=100, num_beams=5, no_repeat_ngram_size=2, early_stopping=True)\n",
    "    output = tokenizer.decode(beam_output[0], skip_special_tokens=True)\n",
    "    return output\n",
    "\n",
    "# Create and launch Gradio interface\n",
    "iface = gr.Interface(fn=generate_text, inputs=\"text\", outputs=\"text\", title=\"GPT-2 Text Generation\", description=\"Type a prompt and get text generated by GPT-2.\")\n",
    "iface.launch()\n"
   ]
  },
  {
   "cell_type": "code",
   "execution_count": null,
   "id": "2cb31690a5d415",
   "metadata": {
    "collapsed": false
   },
   "outputs": [],
   "source": []
  }
 ],
 "metadata": {
  "kernelspec": {
   "display_name": "Python 3",
   "language": "python",
   "name": "python3"
  },
  "language_info": {
   "codemirror_mode": {
    "name": "ipython",
    "version": 2
   },
   "file_extension": ".py",
   "mimetype": "text/x-python",
   "name": "python",
   "nbconvert_exporter": "python",
   "pygments_lexer": "ipython2",
   "version": "2.7.6"
  }
 },
 "nbformat": 4,
 "nbformat_minor": 5
}
